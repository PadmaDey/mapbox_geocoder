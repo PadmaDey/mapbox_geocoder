{
  "cells": [
    {
      "cell_type": "code",
      "execution_count": null,
      "metadata": {
        "colab": {
          "base_uri": "https://localhost:8080/"
        },
        "collapsed": true,
        "id": "2qSreppGrbsq",
        "outputId": "c51c2c0c-c6b9-4fa0-c633-b0ff989454d7"
      },
      "outputs": [],
      "source": [
        "# !pip install pandas openpyxl fuzzywuzzy python-Levenshtein requests\n"
      ]
    },
    {
      "cell_type": "code",
      "execution_count": null,
      "metadata": {
        "colab": {
          "base_uri": "https://localhost:8080/"
        },
        "id": "NUr2QgqULWlJ",
        "outputId": "ab406fbd-710f-475f-957a-6847c90d54dd"
      },
      "outputs": [
        {
          "data": {
            "text/plain": [
              "['Beaufort County Permits',\n",
              " 'Chester County Permits',\n",
              " 'Edgefield County Permits',\n",
              " 'Greenville county permits',\n",
              " 'Horry county permits',\n",
              " 'Kershaw County Permits',\n",
              " 'oconee county permits',\n",
              " 'Pickens county permits ']"
            ]
          },
          "execution_count": 6,
          "metadata": {},
          "output_type": "execute_result"
        }
      ],
      "source": [
        "import pandas as pd\n",
        "import os\n",
        "\n",
        "# Load the Excel file\n",
        "input_path = \"/content/South Carolina County Population 2020-2024 (DA).xlsx\"\n",
        "xls = pd.ExcelFile(input_path)\n",
        "\n",
        "# Show all sheet names\n",
        "sheet_names = xls.sheet_names\n",
        "sheet_names\n"
      ]
    },
    {
      "cell_type": "code",
      "execution_count": null,
      "metadata": {
        "colab": {
          "base_uri": "https://localhost:8080/"
        },
        "id": "uWT_1ePjmo3R",
        "outputId": "7b450372-997d-4952-d981-519c9a51c670"
      },
      "outputs": [
        {
          "name": "stdout",
          "output_type": "stream",
          "text": [
            "All sheets processed and exported successfully.\n"
          ]
        }
      ],
      "source": [
        "import pandas as pd\n",
        "import os\n",
        "import re\n",
        "import requests\n",
        "from fuzzywuzzy import fuzz\n",
        "\n",
        "# --- CONFIGURATION ---\n",
        "input_path = \"/content/South Carolina County Population 2020-2024 (DA).xlsx\"\n",
        "MAPBOX_API_KEY = \"pk.eyJ1IjoicGFkbWFkZXkiLCJhIjoiY21iYWZ2bGVwMDBvMDJqc291NXNyY3Q1ZiJ9.VKNF16mUNwdOqcr7LJ7RZg\"\n",
        "output_dir = \"/content/sheets_output\"\n",
        "os.makedirs(output_dir, exist_ok=True)\n",
        "\n",
        "# --- FUZZY LOGIC FUNCTION ---\n",
        "def standardize_permit_type(value):\n",
        "    val = str(value).lower()\n",
        "    if any(fuzz.partial_ratio(val, kw.lower()) > 80 for kw in [\"Residential\", \"Family\", \"Home\"]):\n",
        "        return \"Residential\"\n",
        "    elif any(fuzz.partial_ratio(val, kw.lower()) > 80 for kw in [\"Commercial\", \"Com\"]):\n",
        "        return \"Commercial\"\n",
        "    elif fuzz.partial_ratio(val, \"Building\") > 80:\n",
        "        # Building can mean both, but if not caught earlier, default to Commercial\n",
        "        return \"Commercial\"\n",
        "    else:\n",
        "        return value  # untouched if no match\n",
        "\n",
        "# --- GEOCODING FUNCTION ---\n",
        "def get_lat_lon(address):\n",
        "    try:\n",
        "        response = requests.get(\n",
        "            f\"https://api.mapbox.com/geocoding/v5/mapbox.places/{requests.utils.quote(address)}.json\",\n",
        "            params={\"access_token\": MAPBOX_API_KEY}\n",
        "        )\n",
        "        data = response.json()\n",
        "        coords = data['features'][0]['center']\n",
        "        return coords[1], coords[0]  # latitude, longitude\n",
        "    except Exception:\n",
        "        return None, None\n",
        "\n",
        "# --- PROCESSING EACH SHEET ---\n",
        "excel_file = pd.ExcelFile(input_path)\n",
        "csv_files = []\n",
        "\n",
        "for sheet_name in excel_file.sheet_names:\n",
        "    df = excel_file.parse(sheet_name)\n",
        "\n",
        "    # Standardize 'permit_type'\n",
        "    df['permit_type'] = df['permit_type'].apply(standardize_permit_type)\n",
        "\n",
        "    # Create 'full_address'\n",
        "    df['full_address'] = df[['street_address', 'county', 'state', 'country']].astype(str).agg(', '.join, axis=1)\n",
        "\n",
        "    # Get lat/lon\n",
        "    df[['latitude', 'longitude']] = df['full_address'].apply(lambda x: pd.Series(get_lat_lon(x)))\n",
        "\n",
        "    # Create 'lat-lon' column\n",
        "    df['lat-lon'] = df[['latitude', 'longitude']].astype(str).agg(','.join, axis=1)\n",
        "\n",
        "    # Export to CSV\n",
        "    csv_path = os.path.join(output_dir, f\"{sheet_name.replace('/', '_')}.csv\")\n",
        "    df.to_csv(csv_path, index=False)\n",
        "    csv_files.append(csv_path)\n",
        "\n",
        "# --- APPEND ALL CSVs INTO ONE ---\n",
        "# combined_df = pd.concat([pd.read_csv(f) for f in csv_files], ignore_index=True)\n",
        "# combined_csv_path = os.path.join(output_dir, \"combined_output.csv\")\n",
        "# combined_df.to_csv(combined_csv_path, index=False)\n",
        "\n",
        "print(\"All sheets processed and exported successfully.\")\n"
      ]
    },
    {
      "cell_type": "code",
      "execution_count": null,
      "metadata": {
        "id": "_idCQe4RrrIq"
      },
      "outputs": [],
      "source": []
    },
    {
      "cell_type": "code",
      "execution_count": null,
      "metadata": {
        "id": "4JnZc_kWrrDR"
      },
      "outputs": [],
      "source": []
    },
    {
      "cell_type": "code",
      "execution_count": null,
      "metadata": {
        "colab": {
          "base_uri": "https://localhost:8080/"
        },
        "collapsed": true,
        "id": "GXL98NFqrq8y",
        "outputId": "4b109e94-f863-44bb-e3a3-56cc4e67f1a7"
      },
      "outputs": [],
      "source": [
        "# !pip install pandas openpyxl requests geojson\n"
      ]
    },
    {
      "cell_type": "code",
      "execution_count": null,
      "metadata": {
        "colab": {
          "base_uri": "https://localhost:8080/"
        },
        "id": "8fH_907arsrI",
        "outputId": "ac15cb68-d39b-437e-c846-27d679052815"
      },
      "outputs": [
        {
          "name": "stdout",
          "output_type": "stream",
          "text": [
            "Full process complete: Cleaned, normalized, geocoded, and exported CSV + GeoJSON.\n"
          ]
        }
      ],
      "source": [
        "import pandas as pd\n",
        "import requests\n",
        "import geojson\n",
        "\n",
        "# Constants\n",
        "input_path = \"raw_data\\Dentists.xlsx\"\n",
        "# output_csv_path = \"sheets_output\\Dentists_Geo.csv\"\n",
        "output_geojson_path = \"sheets_output\\Dentists_Geo.geojson\"\n",
        "MAPBOX_API_KEY = \"\"\n",
        "\n",
        "# Step 1: Load Excel\n",
        "df = pd.read_excel(input_path)\n",
        "\n",
        "# Step 2: Normalize state abbreviations\n",
        "state_mapping = {\n",
        "    \"SC\": \"South Carolina\",\n",
        "    \"NC\": \"North Carolina\",\n",
        "    \"GA\": \"Georgia\"\n",
        "}\n",
        "df[\"state\"] = df[\"state\"].replace(state_mapping)\n",
        "\n",
        "# Step 3: Clean street_address and build full_address\n",
        "df[\"street_address\"] = df[\"street_address\"].str.replace(\"#\", \"\", regex=False).str.strip()\n",
        "\n",
        "df[\"full_address\"] = (\n",
        "    df[\"street_address\"].astype(str) + \", \" +\n",
        "    df[\"city\"].astype(str) + \", \" +\n",
        "    df[\"state\"].astype(str) + \" \" +\n",
        "    df[\"zip\"].astype(str) + \", \" +\n",
        "    df[\"country\"].astype(str)\n",
        ")\n",
        "\n",
        "# Step 4: Geocoding function using Mapbox\n",
        "def geocode_address(address):\n",
        "    url = f\"https://api.mapbox.com/geocoding/v5/mapbox.places/{address}.json\"\n",
        "    params = {\n",
        "        \"access_token\": MAPBOX_API_KEY,\n",
        "        \"limit\": 1\n",
        "    }\n",
        "    response = requests.get(url, params=params)\n",
        "    data = response.json()\n",
        "\n",
        "    if data.get(\"features\"):\n",
        "        coords = data[\"features\"][0][\"geometry\"][\"coordinates\"]\n",
        "        return coords[1], coords[0]  # latitude, longitude\n",
        "    return None, None\n",
        "\n",
        "# Step 5: Apply geocoding\n",
        "df[\"latitude\"], df[\"longitude\"] = zip(*df[\"full_address\"].apply(geocode_address))\n",
        "\n",
        "# Step 6: Create lat-lon column\n",
        "df[\"lat-lon\"] = df[\"latitude\"].astype(str) + \",\" + df[\"longitude\"].astype(str)\n",
        "\n",
        "# Step 7: Export to CSV\n",
        "# df.to_csv(output_csv_path, index=False)\n",
        "\n",
        "# Step 8: Create GeoJSON\n",
        "features = []\n",
        "for _, row in df.iterrows():\n",
        "    if pd.notnull(row[\"latitude\"]) and pd.notnull(row[\"longitude\"]):\n",
        "        point = geojson.Point((row[\"longitude\"], row[\"latitude\"]))\n",
        "        properties = {\n",
        "            \"business_name\": row[\"business_name\"],\n",
        "            \"full_address\": row[\"full_address\"],\n",
        "            \"lat-lon\": row[\"lat-lon\"]\n",
        "        }\n",
        "        features.append(geojson.Feature(geometry=point, properties=properties))\n",
        "\n",
        "feature_collection = geojson.FeatureCollection(features)\n",
        "\n",
        "with open(output_geojson_path, \"w\") as f:\n",
        "    geojson.dump(feature_collection, f, indent=2)\n",
        "\n",
        "print(\"Full process complete: Cleaned, normalized, geocoded, and exported CSV + GeoJSON.\")\n"
      ]
    }
  ],
  "metadata": {
    "colab": {
      "provenance": []
    },
    "kernelspec": {
      "display_name": "Python 3",
      "name": "python3"
    },
    "language_info": {
      "name": "python"
    }
  },
  "nbformat": 4,
  "nbformat_minor": 0
}
